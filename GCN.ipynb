{
  "nbformat": 4,
  "nbformat_minor": 0,
  "metadata": {
    "colab": {
      "provenance": [],
      "authorship_tag": "ABX9TyPl56VoHJEaccJGOSTD1Diy",
      "include_colab_link": true
    },
    "kernelspec": {
      "name": "python3",
      "display_name": "Python 3"
    },
    "language_info": {
      "name": "python"
    },
    "accelerator": "GPU",
    "gpuClass": "standard"
  },
  "cells": [
    {
      "cell_type": "markdown",
      "metadata": {
        "id": "view-in-github",
        "colab_type": "text"
      },
      "source": [
        "<a href=\"https://colab.research.google.com/github/thisismedha/DeepLearning/blob/main/GCN.ipynb\" target=\"_parent\"><img src=\"https://colab.research.google.com/assets/colab-badge.svg\" alt=\"Open In Colab\"/></a>"
      ]
    },
    {
      "cell_type": "markdown",
      "source": [
        "# Homework3\n",
        "*by Medha Singh*\n",
        "\n",
        "**Answer4:**\n",
        "PubMed is a database of biomedical literature, including articles and abstracts from scientific journals, books, and conference proceedings. The database includes over 30 million citations, with content covering a range of biomedical topics such as medicine, nursing, dentistry, veterinary medicine, and public health. PubMed is widely used by researchers, clinicians, and other professionals in the biomedical field to find information and stay up to date with the latest research in their field. It is also commonly used as a resource for natural language processing and machine learning research in the biomedical domain."
      ],
      "metadata": {
        "id": "I2iilb1_y4AU"
      }
    },
    {
      "cell_type": "code",
      "source": [
        "# Install packages\n",
        "!pip list -v | grep torch\n",
        "!pip uninstall torch torchvision torchaudio\n",
        "!pip3 install torch torchvision torchaudio --index-url https://download.pytorch.org/whl/cu118\n",
        "!pip install torch_geometric\n",
        "!pip install torch_scatter torch_sparse torch_cluster torch_spline_conv -f https://data.pyg.org/whl/torch-2.0.0+cu118.html"
      ],
      "metadata": {
        "colab": {
          "base_uri": "https://localhost:8080/",
          "height": 1000
        },
        "id": "zc5Svbfmzp6u",
        "outputId": "de0ec346-f783-40af-c41c-02ccb9ec304f"
      },
      "execution_count": null,
      "outputs": [
        {
          "output_type": "stream",
          "name": "stdout",
          "text": [
            "torch                         2.0.0+cu118          /usr/local/lib/python3.9/dist-packages pip\n",
            "torchaudio                    2.0.1+cu118          /usr/local/lib/python3.9/dist-packages pip\n",
            "torchdata                     0.6.0                /usr/local/lib/python3.9/dist-packages pip\n",
            "torchsummary                  1.5.1                /usr/local/lib/python3.9/dist-packages pip\n",
            "torchtext                     0.15.1               /usr/local/lib/python3.9/dist-packages pip\n",
            "torchvision                   0.15.1+cu118         /usr/local/lib/python3.9/dist-packages pip\n",
            "Found existing installation: torch 2.0.0+cu118\n",
            "Uninstalling torch-2.0.0+cu118:\n",
            "  Would remove:\n",
            "    /usr/local/bin/convert-caffe2-to-onnx\n",
            "    /usr/local/bin/convert-onnx-to-caffe2\n",
            "    /usr/local/bin/torchrun\n",
            "    /usr/local/lib/python3.9/dist-packages/functorch/*\n",
            "    /usr/local/lib/python3.9/dist-packages/nvfuser/*\n",
            "    /usr/local/lib/python3.9/dist-packages/torch-2.0.0+cu118.dist-info/*\n",
            "    /usr/local/lib/python3.9/dist-packages/torch/*\n",
            "    /usr/local/lib/python3.9/dist-packages/torchgen/*\n",
            "Proceed (Y/n)? y\n",
            "  Successfully uninstalled torch-2.0.0+cu118\n",
            "Found existing installation: torchvision 0.15.1+cu118\n",
            "Uninstalling torchvision-0.15.1+cu118:\n",
            "  Would remove:\n",
            "    /usr/local/lib/python3.9/dist-packages/torchvision-0.15.1+cu118.dist-info/*\n",
            "    /usr/local/lib/python3.9/dist-packages/torchvision.libs/libcudart.60cfec8e.so.11.0\n",
            "    /usr/local/lib/python3.9/dist-packages/torchvision.libs/libjpeg.ceea7512.so.62\n",
            "    /usr/local/lib/python3.9/dist-packages/torchvision.libs/libnvjpeg.70530407.so.11\n",
            "    /usr/local/lib/python3.9/dist-packages/torchvision.libs/libpng16.7f72a3c5.so.16\n",
            "    /usr/local/lib/python3.9/dist-packages/torchvision.libs/libz.55464d6f.so.1\n",
            "    /usr/local/lib/python3.9/dist-packages/torchvision/*\n",
            "Proceed (Y/n)? y\n",
            "  Successfully uninstalled torchvision-0.15.1+cu118\n",
            "Found existing installation: torchaudio 2.0.1+cu118\n",
            "Uninstalling torchaudio-2.0.1+cu118:\n",
            "  Would remove:\n",
            "    /usr/local/lib/python3.9/dist-packages/torchaudio-2.0.1+cu118.dist-info/*\n",
            "    /usr/local/lib/python3.9/dist-packages/torchaudio/*\n",
            "Proceed (Y/n)? y\n",
            "  Successfully uninstalled torchaudio-2.0.1+cu118\n",
            "Looking in indexes: https://download.pytorch.org/whl/cu118, https://us-python.pkg.dev/colab-wheels/public/simple/\n",
            "Collecting torch\n",
            "  Downloading https://download.pytorch.org/whl/cu118/torch-2.0.0%2Bcu118-cp39-cp39-linux_x86_64.whl (2267.3 MB)\n",
            "\u001b[2K     \u001b[90m━━━━━━━━━━━━━━━━━━━━━━━━━━━━━━━━━━━━━━━━\u001b[0m \u001b[32m2.3/2.3 GB\u001b[0m \u001b[31m775.5 kB/s\u001b[0m eta \u001b[36m0:00:00\u001b[0m\n",
            "\u001b[?25hCollecting torchvision\n",
            "  Downloading https://download.pytorch.org/whl/cu118/torchvision-0.15.1%2Bcu118-cp39-cp39-linux_x86_64.whl (6.1 MB)\n",
            "\u001b[2K     \u001b[90m━━━━━━━━━━━━━━━━━━━━━━━━━━━━━━━━━━━━━━━━\u001b[0m \u001b[32m6.1/6.1 MB\u001b[0m \u001b[31m68.2 MB/s\u001b[0m eta \u001b[36m0:00:00\u001b[0m\n",
            "\u001b[?25hCollecting torchaudio\n",
            "  Downloading https://download.pytorch.org/whl/cu118/torchaudio-2.0.1%2Bcu118-cp39-cp39-linux_x86_64.whl (4.4 MB)\n",
            "\u001b[2K     \u001b[90m━━━━━━━━━━━━━━━━━━━━━━━━━━━━━━━━━━━━━━━━\u001b[0m \u001b[32m4.4/4.4 MB\u001b[0m \u001b[31m29.1 MB/s\u001b[0m eta \u001b[36m0:00:00\u001b[0m\n",
            "\u001b[?25hRequirement already satisfied: sympy in /usr/local/lib/python3.9/dist-packages (from torch) (1.11.1)\n",
            "Requirement already satisfied: jinja2 in /usr/local/lib/python3.9/dist-packages (from torch) (3.1.2)\n",
            "Requirement already satisfied: filelock in /usr/local/lib/python3.9/dist-packages (from torch) (3.11.0)\n",
            "Requirement already satisfied: networkx in /usr/local/lib/python3.9/dist-packages (from torch) (3.1)\n",
            "Requirement already satisfied: triton==2.0.0 in /usr/local/lib/python3.9/dist-packages (from torch) (2.0.0)\n",
            "Requirement already satisfied: typing-extensions in /usr/local/lib/python3.9/dist-packages (from torch) (4.5.0)\n",
            "Requirement already satisfied: lit in /usr/local/lib/python3.9/dist-packages (from triton==2.0.0->torch) (16.0.1)\n",
            "Requirement already satisfied: cmake in /usr/local/lib/python3.9/dist-packages (from triton==2.0.0->torch) (3.25.2)\n",
            "Requirement already satisfied: pillow!=8.3.*,>=5.3.0 in /usr/local/lib/python3.9/dist-packages (from torchvision) (8.4.0)\n",
            "Requirement already satisfied: requests in /usr/local/lib/python3.9/dist-packages (from torchvision) (2.27.1)\n",
            "Requirement already satisfied: numpy in /usr/local/lib/python3.9/dist-packages (from torchvision) (1.22.4)\n",
            "Requirement already satisfied: MarkupSafe>=2.0 in /usr/local/lib/python3.9/dist-packages (from jinja2->torch) (2.1.2)\n",
            "Requirement already satisfied: certifi>=2017.4.17 in /usr/local/lib/python3.9/dist-packages (from requests->torchvision) (2022.12.7)\n",
            "Requirement already satisfied: charset-normalizer~=2.0.0 in /usr/local/lib/python3.9/dist-packages (from requests->torchvision) (2.0.12)\n",
            "Requirement already satisfied: idna<4,>=2.5 in /usr/local/lib/python3.9/dist-packages (from requests->torchvision) (3.4)\n",
            "Requirement already satisfied: urllib3<1.27,>=1.21.1 in /usr/local/lib/python3.9/dist-packages (from requests->torchvision) (1.26.15)\n",
            "Requirement already satisfied: mpmath>=0.19 in /usr/local/lib/python3.9/dist-packages (from sympy->torch) (1.3.0)\n",
            "Installing collected packages: torch, torchvision, torchaudio\n",
            "Successfully installed torch-2.0.0+cu118 torchaudio-2.0.1+cu118 torchvision-0.15.1+cu118\n"
          ]
        },
        {
          "output_type": "display_data",
          "data": {
            "application/vnd.colab-display-data+json": {
              "pip_warning": {
                "packages": [
                  "nvfuser",
                  "torch"
                ]
              }
            }
          },
          "metadata": {}
        },
        {
          "output_type": "stream",
          "name": "stdout",
          "text": [
            "Looking in indexes: https://pypi.org/simple, https://us-python.pkg.dev/colab-wheels/public/simple/\n",
            "Collecting torch_geometric\n",
            "  Downloading torch_geometric-2.3.0.tar.gz (616 kB)\n",
            "\u001b[2K     \u001b[90m━━━━━━━━━━━━━━━━━━━━━━━━━━━━━━━━━━━━━━\u001b[0m \u001b[32m616.2/616.2 kB\u001b[0m \u001b[31m28.2 MB/s\u001b[0m eta \u001b[36m0:00:00\u001b[0m\n",
            "\u001b[?25h  Installing build dependencies ... \u001b[?25l\u001b[?25hdone\n",
            "  Getting requirements to build wheel ... \u001b[?25l\u001b[?25hdone\n",
            "  Preparing metadata (pyproject.toml) ... \u001b[?25l\u001b[?25hdone\n",
            "Requirement already satisfied: scikit-learn in /usr/local/lib/python3.9/dist-packages (from torch_geometric) (1.2.2)\n",
            "Requirement already satisfied: scipy in /usr/local/lib/python3.9/dist-packages (from torch_geometric) (1.10.1)\n",
            "Requirement already satisfied: tqdm in /usr/local/lib/python3.9/dist-packages (from torch_geometric) (4.65.0)\n",
            "Requirement already satisfied: psutil>=5.8.0 in /usr/local/lib/python3.9/dist-packages (from torch_geometric) (5.9.5)\n",
            "Requirement already satisfied: jinja2 in /usr/local/lib/python3.9/dist-packages (from torch_geometric) (3.1.2)\n",
            "Requirement already satisfied: pyparsing in /usr/local/lib/python3.9/dist-packages (from torch_geometric) (3.0.9)\n",
            "Requirement already satisfied: requests in /usr/local/lib/python3.9/dist-packages (from torch_geometric) (2.27.1)\n",
            "Requirement already satisfied: numpy in /usr/local/lib/python3.9/dist-packages (from torch_geometric) (1.22.4)\n",
            "Requirement already satisfied: MarkupSafe>=2.0 in /usr/local/lib/python3.9/dist-packages (from jinja2->torch_geometric) (2.1.2)\n",
            "Requirement already satisfied: idna<4,>=2.5 in /usr/local/lib/python3.9/dist-packages (from requests->torch_geometric) (3.4)\n",
            "Requirement already satisfied: urllib3<1.27,>=1.21.1 in /usr/local/lib/python3.9/dist-packages (from requests->torch_geometric) (1.26.15)\n",
            "Requirement already satisfied: charset-normalizer~=2.0.0 in /usr/local/lib/python3.9/dist-packages (from requests->torch_geometric) (2.0.12)\n",
            "Requirement already satisfied: certifi>=2017.4.17 in /usr/local/lib/python3.9/dist-packages (from requests->torch_geometric) (2022.12.7)\n",
            "Requirement already satisfied: threadpoolctl>=2.0.0 in /usr/local/lib/python3.9/dist-packages (from scikit-learn->torch_geometric) (3.1.0)\n",
            "Requirement already satisfied: joblib>=1.1.1 in /usr/local/lib/python3.9/dist-packages (from scikit-learn->torch_geometric) (1.2.0)\n",
            "Building wheels for collected packages: torch_geometric\n",
            "  Building wheel for torch_geometric (pyproject.toml) ... \u001b[?25l\u001b[?25hdone\n",
            "  Created wheel for torch_geometric: filename=torch_geometric-2.3.0-py3-none-any.whl size=909897 sha256=1d1955f394d2b9e93e8a41c5f944ee27a7e3230e76a667ffacf84ecdc98be92c\n",
            "  Stored in directory: /root/.cache/pip/wheels/cd/7d/6b/17150450b80b4a3656a84330e22709ccd8dc0f8f4773ba4133\n",
            "Successfully built torch_geometric\n",
            "Installing collected packages: torch_geometric\n",
            "Successfully installed torch_geometric-2.3.0\n",
            "Looking in indexes: https://pypi.org/simple, https://us-python.pkg.dev/colab-wheels/public/simple/\n",
            "Looking in links: https://data.pyg.org/whl/torch-2.0.0+cu118.html\n",
            "Collecting torch_scatter\n",
            "  Downloading https://data.pyg.org/whl/torch-2.0.0%2Bcu118/torch_scatter-2.1.1%2Bpt20cu118-cp39-cp39-linux_x86_64.whl (10.2 MB)\n",
            "\u001b[2K     \u001b[90m━━━━━━━━━━━━━━━━━━━━━━━━━━━━━━━━━━━━━━━━\u001b[0m \u001b[32m10.2/10.2 MB\u001b[0m \u001b[31m39.7 MB/s\u001b[0m eta \u001b[36m0:00:00\u001b[0m\n",
            "\u001b[?25hCollecting torch_sparse\n",
            "  Downloading https://data.pyg.org/whl/torch-2.0.0%2Bcu118/torch_sparse-0.6.17%2Bpt20cu118-cp39-cp39-linux_x86_64.whl (4.8 MB)\n",
            "\u001b[2K     \u001b[90m━━━━━━━━━━━━━━━━━━━━━━━━━━━━━━━━━━━━━━━━\u001b[0m \u001b[32m4.8/4.8 MB\u001b[0m \u001b[31m91.8 MB/s\u001b[0m eta \u001b[36m0:00:00\u001b[0m\n",
            "\u001b[?25hCollecting torch_cluster\n",
            "  Downloading https://data.pyg.org/whl/torch-2.0.0%2Bcu118/torch_cluster-1.6.1%2Bpt20cu118-cp39-cp39-linux_x86_64.whl (3.3 MB)\n",
            "\u001b[2K     \u001b[90m━━━━━━━━━━━━━━━━━━━━━━━━━━━━━━━━━━━━━━━━\u001b[0m \u001b[32m3.3/3.3 MB\u001b[0m \u001b[31m61.9 MB/s\u001b[0m eta \u001b[36m0:00:00\u001b[0m\n",
            "\u001b[?25hCollecting torch_spline_conv\n",
            "  Downloading https://data.pyg.org/whl/torch-2.0.0%2Bcu118/torch_spline_conv-1.2.2%2Bpt20cu118-cp39-cp39-linux_x86_64.whl (885 kB)\n",
            "\u001b[2K     \u001b[90m━━━━━━━━━━━━━━━━━━━━━━━━━━━━━━━━━━━━━━\u001b[0m \u001b[32m885.2/885.2 kB\u001b[0m \u001b[31m63.5 MB/s\u001b[0m eta \u001b[36m0:00:00\u001b[0m\n",
            "\u001b[?25hRequirement already satisfied: scipy in /usr/local/lib/python3.9/dist-packages (from torch_sparse) (1.10.1)\n",
            "Requirement already satisfied: numpy<1.27.0,>=1.19.5 in /usr/local/lib/python3.9/dist-packages (from scipy->torch_sparse) (1.22.4)\n",
            "Installing collected packages: torch_spline_conv, torch_scatter, torch_sparse, torch_cluster\n",
            "Successfully installed torch_cluster-1.6.1+pt20cu118 torch_scatter-2.1.1+pt20cu118 torch_sparse-0.6.17+pt20cu118 torch_spline_conv-1.2.2+pt20cu118\n"
          ]
        }
      ]
    },
    {
      "cell_type": "code",
      "source": [
        "# import libraries\n",
        "import torch\n",
        "import torch_geometric\n",
        "torch.manual_seed(548)\n",
        "from torch_geometric.datasets import Reddit"
      ],
      "metadata": {
        "id": "yh6gZsVbz4TU"
      },
      "execution_count": null,
      "outputs": []
    },
    {
      "cell_type": "code",
      "source": [
        "# load dataset\n",
        "planetoid = torch_geometric.datasets.Planetoid(root='/tmp/PubMed', name='PubMed')\n",
        "data = planetoid[0]"
      ],
      "metadata": {
        "colab": {
          "base_uri": "https://localhost:8080/"
        },
        "id": "ncjh_4nI01Dz",
        "outputId": "242a1bb7-c616-4df5-eb59-53211d53075d"
      },
      "execution_count": null,
      "outputs": [
        {
          "output_type": "stream",
          "name": "stderr",
          "text": [
            "Downloading https://github.com/kimiyoung/planetoid/raw/master/data/ind.pubmed.x\n",
            "Downloading https://github.com/kimiyoung/planetoid/raw/master/data/ind.pubmed.tx\n",
            "Downloading https://github.com/kimiyoung/planetoid/raw/master/data/ind.pubmed.allx\n",
            "Downloading https://github.com/kimiyoung/planetoid/raw/master/data/ind.pubmed.y\n",
            "Downloading https://github.com/kimiyoung/planetoid/raw/master/data/ind.pubmed.ty\n",
            "Downloading https://github.com/kimiyoung/planetoid/raw/master/data/ind.pubmed.ally\n",
            "Downloading https://github.com/kimiyoung/planetoid/raw/master/data/ind.pubmed.graph\n",
            "Downloading https://github.com/kimiyoung/planetoid/raw/master/data/ind.pubmed.test.index\n",
            "Processing...\n",
            "Done!\n"
          ]
        }
      ]
    },
    {
      "cell_type": "code",
      "source": [
        "data"
      ],
      "metadata": {
        "colab": {
          "base_uri": "https://localhost:8080/"
        },
        "id": "w_4UI1pU18uh",
        "outputId": "750fc665-904b-4b0f-eaea-df21595bd760"
      },
      "execution_count": null,
      "outputs": [
        {
          "output_type": "execute_result",
          "data": {
            "text/plain": [
              "Data(x=[19717, 500], edge_index=[2, 88648], y=[19717], train_mask=[19717], val_mask=[19717], test_mask=[19717])"
            ]
          },
          "metadata": {},
          "execution_count": 39
        }
      ]
    },
    {
      "cell_type": "code",
      "source": [
        "data.y"
      ],
      "metadata": {
        "colab": {
          "base_uri": "https://localhost:8080/"
        },
        "id": "x5i-9aE62ZVo",
        "outputId": "8140e4d0-bca8-48d3-924e-758fd975b87b"
      },
      "execution_count": null,
      "outputs": [
        {
          "output_type": "execute_result",
          "data": {
            "text/plain": [
              "tensor([1, 1, 0,  ..., 2, 0, 2])"
            ]
          },
          "metadata": {},
          "execution_count": 40
        }
      ]
    },
    {
      "cell_type": "code",
      "source": [
        "# define GCN\n",
        "class GCN(torch.nn.Module):\n",
        "    def __init__(self, dataset):\n",
        "        super().__init__()\n",
        "        self.conv1 = torch_geometric.nn.GCNConv(dataset.num_node_features, 64)\n",
        "        self.conv2 = torch_geometric.nn.GCNConv(64, 64)\n",
        "        self.conv2 = torch_geometric.nn.GCNConv(64, dataset.num_classes)\n",
        "        self.dropout = torch.nn.Dropout(p=0.5)\n",
        "\n",
        "    def forward(self, data):\n",
        "        x, edge_index = data.x, data.edge_index\n",
        "\n",
        "        x = self.conv1(x, edge_index)\n",
        "        x = torch.nn.functional.relu(x)\n",
        "        x = self.conv2(x, edge_index)\n",
        "        x = torch.nn.functional.log_softmax(x, dim=1)\n",
        "        return x"
      ],
      "metadata": {
        "id": "tMLheHVx2a6I"
      },
      "execution_count": null,
      "outputs": []
    },
    {
      "cell_type": "code",
      "source": [
        "# train GCN\n",
        "device = torch.device('cuda' if torch.cuda.is_available() else 'cpu')\n",
        "data = data.to(device)\n",
        "model = GCN(planetoid).to(device)\n",
        "optimizer = torch.optim.Adam(model.parameters(), lr=0.01, weight_decay=5e-4)"
      ],
      "metadata": {
        "id": "oqkjPpDA2iyi"
      },
      "execution_count": null,
      "outputs": []
    },
    {
      "cell_type": "code",
      "source": [
        "# clear memory\n",
        "import torch\n",
        "torch.cuda.empty_cache()\n"
      ],
      "metadata": {
        "id": "cluNbt_c7MwX"
      },
      "execution_count": null,
      "outputs": []
    },
    {
      "cell_type": "code",
      "source": [
        "for epoch in range(150):\n",
        "    optimizer.zero_grad()\n",
        "    out = model(data)\n",
        "    loss = torch.nn.functional.nll_loss(out[data.train_mask], data.y[data.train_mask])\n",
        "    loss.backward()\n",
        "    optimizer.step()"
      ],
      "metadata": {
        "id": "q0dD79OZ2p_p"
      },
      "execution_count": null,
      "outputs": []
    },
    {
      "cell_type": "code",
      "source": [
        "pred = model(data).argmax(dim=1)\n",
        "correct = (pred[data.test_mask] == data.y[data.test_mask]).sum()\n",
        "acc = int(correct) / int(data.test_mask.sum())\n",
        "print(f'Accuracy: {acc:.4f}')"
      ],
      "metadata": {
        "colab": {
          "base_uri": "https://localhost:8080/"
        },
        "id": "fTLpN6s-2vF-",
        "outputId": "65f13935-5066-436a-e027-2d8a86dc5f3f"
      },
      "execution_count": null,
      "outputs": [
        {
          "output_type": "stream",
          "name": "stdout",
          "text": [
            "Accuracy: 0.7890\n"
          ]
        }
      ]
    },
    {
      "cell_type": "markdown",
      "source": [
        "The Accuracy of PubMed data set with 150 epochs is **78.9%**"
      ],
      "metadata": {
        "id": "IvIKsnnRGVOb"
      }
    },
    {
      "cell_type": "code",
      "source": [
        "# GCN for linke prediction\n",
        "class GCN(torch.nn.Module):\n",
        "    def __init__(self, dataset):\n",
        "        super().__init__()\n",
        "        self.conv1 = torch_geometric.nn.GCNConv(dataset.num_node_features, 16)\n",
        "        self.conv2 = torch_geometric.nn.GCNConv(16, 12)\n",
        "        self.linear1 = torch.nn.Linear(24, 24)\n",
        "        self.linear2 = torch.nn.Linear(24, 1)\n",
        "\n",
        "    def forward(self, x, train_edge_index, pred_edge_index):\n",
        "        x = self.conv1(x, train_edge_index)\n",
        "        x = torch.nn.functional.relu(x)\n",
        "        x = self.conv2(x, train_edge_index)\n",
        "        x = torch.nn.functional.relu(x)\n",
        "\n",
        "        x_positive = torch.cat((x[pred_edge_index[0,:],:], \n",
        "                                x[pred_edge_index[1,:],:]), dim=1)\n",
        "        x_positive = self.linear1(x_positive)\n",
        "        x_positive = torch.nn.functional.relu(x_positive)\n",
        "        x_positive = self.linear2(x_positive)\n",
        "        x_positive = torch.sigmoid(x_positive)\n",
        "\n",
        "        x_negative = torch.cat((x[torch.randint(high = x.shape[0], size = (pred_edge_index.shape[1],)),:],\n",
        "                                x[pred_edge_index[1,:],:]), dim=1)\n",
        "        x_negative = self.linear1(x_negative)\n",
        "        x_negative = torch.nn.functional.relu(x_negative)\n",
        "        x_negative = self.linear2(x_negative)\n",
        "        x_negative = torch.sigmoid(x_negative)\n",
        "        return x_positive.squeeze(), x_negative.squeeze()"
      ],
      "metadata": {
        "id": "V2p7K1BxEFEc"
      },
      "execution_count": null,
      "outputs": []
    },
    {
      "cell_type": "code",
      "source": [
        "# Split data to test and train\n",
        "device = torch.device('cuda' if torch.cuda.is_available() else 'cpu')\n",
        "data = data.to(device)\n",
        "train_size = round(0.8*data.edge_index.shape[1])\n",
        "model = GCN(planetoid).to(device)\n",
        "loss_fn = torch.nn.BCELoss()\n",
        "optimizer = torch.optim.Adam(model.parameters(), lr=0.01, weight_decay=5e-4)"
      ],
      "metadata": {
        "id": "9EgmrnI1FvZ5"
      },
      "execution_count": null,
      "outputs": []
    },
    {
      "cell_type": "code",
      "source": [
        "# train the model\n",
        "for epoch in range(200):\n",
        "    optimizer.zero_grad()\n",
        "    target = torch.concat((torch.ones((train_size,), device = device), torch.zeros((train_size,), device = device)))\n",
        "\n",
        "    out = model(data.x, \n",
        "                data.edge_index[:, :train_size],\n",
        "                data.edge_index[:, :train_size])\n",
        "    pred = torch.concat(out)\n",
        "    loss = loss_fn(pred, target)\n",
        "    loss.backward()\n",
        "    optimizer.step()"
      ],
      "metadata": {
        "id": "-Behw7LAF0hC"
      },
      "execution_count": null,
      "outputs": []
    },
    {
      "cell_type": "code",
      "source": [
        "# use recall as evaluation metrics\n",
        "pred = model(data.x, \n",
        "             data.edge_index[:, :train_size],\n",
        "             data.edge_index[:, train_size:])[0]\n",
        "correct = (pred >= 0.5).sum()\n",
        "recall = int(correct) / (data.edge_index.shape[1] - train_size)\n",
        "print(f'Recall: {recall:.4f}')"
      ],
      "metadata": {
        "colab": {
          "base_uri": "https://localhost:8080/"
        },
        "id": "8kw7EufbF4vN",
        "outputId": "7c0729ff-0d96-4679-bef9-b852c454eed6"
      },
      "execution_count": null,
      "outputs": [
        {
          "output_type": "stream",
          "name": "stdout",
          "text": [
            "Recall: 0.9061\n"
          ]
        }
      ]
    },
    {
      "cell_type": "code",
      "source": [
        "# GCN for GraphSage\n",
        "class GraphSage(torch.nn.Module):\n",
        "    def __init__(self, dataset):\n",
        "        super().__init__()\n",
        "        self.conv1 = torch_geometric.nn.SAGEConv(dataset.num_node_features, 16)\n",
        "        self.conv2 = torch_geometric.nn.SAGEConv(16, dataset.num_classes)\n",
        "\n",
        "    def forward(self, data):\n",
        "        x, edge_index = data.x, data.edge_index\n",
        "\n",
        "        x = self.conv1(x, edge_index)\n",
        "        x = torch.nn.functional.relu(x)\n",
        "        x = self.conv2(x, edge_index)\n",
        "        x = torch.nn.functional.log_softmax(x, dim=1)\n",
        "        return x\n",
        "\n",
        "device = torch.device('cuda' if torch.cuda.is_available() else 'cpu')\n",
        "data = data.to(device)\n",
        "model = GraphSage(planetoid).to(device)\n",
        "optimizer = torch.optim.Adam(model.parameters(), lr=0.01, weight_decay=5e-4)\n",
        "\n",
        "for epoch in range(200):\n",
        "    optimizer.zero_grad()\n",
        "    out = model(data)\n",
        "    loss = torch.nn.functional.nll_loss(out[data.train_mask], data.y[data.train_mask])\n",
        "    loss.backward()\n",
        "    optimizer.step()\n",
        "\n",
        "pred = model(data).argmax(dim=1)\n",
        "correct = (pred[data.test_mask] == data.y[data.test_mask]).sum()\n",
        "acc = int(correct) / int(data.test_mask.sum())\n",
        "print(f'Accuracy: {acc:.4f}')"
      ],
      "metadata": {
        "colab": {
          "base_uri": "https://localhost:8080/"
        },
        "id": "zmbE3iOXF-Bn",
        "outputId": "1eae944b-dc18-4613-ed81-7ae9efd59fc3"
      },
      "execution_count": null,
      "outputs": [
        {
          "output_type": "stream",
          "name": "stdout",
          "text": [
            "Accuracy: 0.7690\n"
          ]
        }
      ]
    },
    {
      "cell_type": "code",
      "source": [
        "# GrapgSage for linke prediction\n",
        "class GraphSage(torch.nn.Module):\n",
        "    def __init__(self, dataset):\n",
        "        super().__init__()\n",
        "        self.conv1 = torch_geometric.nn.SAGEConv(dataset.num_node_features, 16)\n",
        "        self.conv2 = torch_geometric.nn.SAGEConv(16, 12)\n",
        "        self.linear1 = torch.nn.Linear(24, 24)\n",
        "        self.linear2 = torch.nn.Linear(24, 1)\n",
        "\n",
        "    def forward(self, x, train_edge_index, pred_edge_index):\n",
        "        x = self.conv1(x, train_edge_index)\n",
        "        x = torch.nn.functional.relu(x)\n",
        "        x = self.conv2(x, train_edge_index)\n",
        "        x = torch.nn.functional.relu(x)\n",
        "\n",
        "        x_positive = torch.cat((x[pred_edge_index[0,:],:], \n",
        "                                x[pred_edge_index[1,:],:]), dim=1)\n",
        "        x_positive = self.linear1(x_positive)\n",
        "        x_positive = torch.nn.functional.relu(x_positive)\n",
        "        x_positive = self.linear2(x_positive)\n",
        "        x_positive = torch.sigmoid(x_positive)\n",
        "\n",
        "        x_negative = torch.cat((x[torch.randint(high = x.shape[0], size = (pred_edge_index.shape[1],)),:],\n",
        "                                x[pred_edge_index[1,:],:]), dim=1)\n",
        "        x_negative = self.linear1(x_negative)\n",
        "        x_negative = torch.nn.functional.relu(x_negative)\n",
        "        x_negative = self.linear2(x_negative)\n",
        "        x_negative = torch.sigmoid(x_negative)\n",
        "        return x_positive.squeeze(), x_negative.squeeze()\n",
        "\n",
        "device = torch.device('cuda' if torch.cuda.is_available() else 'cpu')\n",
        "data = data.to(device)\n",
        "train_size = round(0.8*data.edge_index.shape[1])\n",
        "model = GraphSage(planetoid).to(device)\n",
        "loss_fn = torch.nn.BCELoss()\n",
        "optimizer = torch.optim.Adam(model.parameters(), lr=0.01, weight_decay=5e-4)\n",
        "\n",
        "for epoch in range(200):\n",
        "    optimizer.zero_grad()\n",
        "    target = torch.concat((torch.ones((train_size,), device = device), torch.zeros((train_size,), device = device)))\n",
        "\n",
        "    out = model(data.x, \n",
        "                data.edge_index[:, :train_size],\n",
        "                data.edge_index[:, :train_size])\n",
        "    pred = torch.concat(out)\n",
        "    loss = loss_fn(pred, target)\n",
        "    loss.backward()\n",
        "    optimizer.step()\n",
        "\n",
        "pred = model(data.x, \n",
        "             data.edge_index[:, :train_size],\n",
        "             data.edge_index[:, train_size:])[0]\n",
        "correct = (pred >= 0.5).sum()\n",
        "recall = int(correct) / (data.edge_index.shape[1] - train_size)\n",
        "print(f'Recall: {recall:.4f}')"
      ],
      "metadata": {
        "colab": {
          "base_uri": "https://localhost:8080/"
        },
        "id": "7V5SaVIqGDfb",
        "outputId": "3308041b-a3f2-4b8d-911a-500b15c221c1"
      },
      "execution_count": null,
      "outputs": [
        {
          "output_type": "stream",
          "name": "stdout",
          "text": [
            "Recall: 0.7655\n"
          ]
        }
      ]
    },
    {
      "cell_type": "code",
      "source": [],
      "metadata": {
        "id": "BEkM2qoRGI0x"
      },
      "execution_count": null,
      "outputs": []
    }
  ]
}